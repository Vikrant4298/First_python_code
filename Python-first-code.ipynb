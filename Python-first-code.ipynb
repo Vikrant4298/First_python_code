{
  "nbformat": 4,
  "nbformat_minor": 0,
  "metadata": {
    "colab": {
      "provenance": []
    },
    "kernelspec": {
      "name": "python3",
      "display_name": "Python 3"
    },
    "language_info": {
      "name": "python"
    }
  },
  "cells": [
    {
      "cell_type": "code",
      "execution_count": 1,
      "metadata": {
        "colab": {
          "base_uri": "https://localhost:8080/"
        },
        "id": "GG-xXKHGB1sm",
        "outputId": "8371a190-fb03-424e-afa7-a500421cc197"
      },
      "outputs": [
        {
          "output_type": "stream",
          "name": "stdout",
          "text": [
            "10+20\n"
          ]
        }
      ],
      "source": [
        "print(\"10+20\")"
      ]
    },
    {
      "cell_type": "code",
      "source": [
        "print(10+20)"
      ],
      "metadata": {
        "colab": {
          "base_uri": "https://localhost:8080/"
        },
        "id": "t-RyCJXNRy8v",
        "outputId": "af460f42-bcfe-4aee-e344-8c99083da76a"
      },
      "execution_count": 2,
      "outputs": [
        {
          "output_type": "stream",
          "name": "stdout",
          "text": [
            "30\n"
          ]
        }
      ]
    },
    {
      "cell_type": "code",
      "source": [
        "# Examples of variables with different data types\n",
        "age = 25\n",
        "height = 5.9\n",
        "name = 'John'\n",
        "is_adult = False\n",
        "fruits = ['apple', 'banana', 'orange']\n",
        "coordinates = (3, 5)\n",
        "person = {'name': 'Alice', 'age': 30}\n",
        "unique_numbers = {1, 2, 3, 4, 5}\n",
        "result = None\n",
        "\n",
        "\n",
        "\n",
        "# Printing the data types of the variables\n",
        "print(type(age))            # <class 'int'>\n",
        "print(type(height))         # <class 'float'>\n",
        "print(type(name))           # <class 'str'>\n",
        "print(type(is_adult))       # <class 'bool'>\n",
        "print(type(fruits))         # <class 'list'>\n",
        "print(type(coordinates))    # <class 'tuple'>\n",
        "print(type(person))         # <class 'dict'>\n",
        "print(type(unique_numbers)) # <class 'set'>\n",
        "print(type(result))         # <class 'NoneType'>\n"
      ],
      "metadata": {
        "colab": {
          "base_uri": "https://localhost:8080/"
        },
        "id": "9jGjIUXIZpqP",
        "outputId": "0cb5d6a9-acd0-4088-915f-ea5ebff8ce91"
      },
      "execution_count": 9,
      "outputs": [
        {
          "output_type": "stream",
          "name": "stdout",
          "text": [
            "<class 'int'>\n",
            "<class 'float'>\n",
            "<class 'str'>\n",
            "<class 'bool'>\n",
            "<class 'list'>\n",
            "<class 'tuple'>\n",
            "<class 'dict'>\n",
            "<class 'set'>\n",
            "<class 'NoneType'>\n"
          ]
        }
      ]
    }
  ]
}